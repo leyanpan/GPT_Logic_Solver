{
 "cells": [
  {
   "cell_type": "code",
   "execution_count": 1,
   "metadata": {
    "ExecuteTime": {
     "end_time": "2024-09-14T04:45:49.725006Z",
     "start_time": "2024-09-14T04:45:48.526497Z"
    }
   },
   "outputs": [],
   "source": [
    "from dpll import dpll\n",
    "from compiler import compile_model\n",
    "import matplotlib.pyplot as plt\n",
    "from visualization import Visualization\n",
    "from sops import indices, ones, OneHotTokEmb\n",
    "from sop_utils import sop_generate\n",
    "\n",
    "test_id = 5\n",
    "sample_inputs = [\n",
    "    \"[BOS] 1 -2 3 0 -1 2 -3 0 2 4 -1 0 1 -3 4 0 -2 -3 -4 0 3 -4 -1 0 -2 4 -1 0 [SEP] D 1 [UP] D 1 D 2 [UP] D 1 D 2 4 -3 [BT] D 1 -2 -3 4 [BT] -1 D 2 [UP] -1 D 2 3 4 [BT] -1 -2 D 3 [UP] -1 -2 D 3 4 SAT\",\n",
    "    \"[BOS] 6 -7 -5 0 -4 -8 9 0 -1 -8 2 0 -3 6 1 0 5 -9 -10 0 -7 -1 9 0 -4 -6 10 0 -4 -8 7 0 -7 -2 -8 0 3 6 1 0 8 1 3 0 6 3 7 0 3 9 7 0 3 -9 -5 0 -1 3 2 0 5 3 -6 0 -10 7 4 0 8 -9 -10 0 1 -4 5 0 -2 10 7 0 -10 5 -2 0 -8 10 -7 0 -4 -5 -1 0 -10 -7 6 0 10 7 -1 0 -3 -6 7 0 4 6 -9 0 -9 -10 7 0 -7 -10 8 0 5 4 -2 0 -1 -3 4 0 -3 -8 1 0 7 9 10 0 4 3 2 0 10 2 3 0 9 -4 8 0 9 5 2 0 1 -2 -8 0 8 9 -1 0 1 -10 4 0 5 2 -1 0 [SEP] D 7 [UP] D 7 D 1 [UP] D 7 D 1 9 D 6 [UP] D 7 D 1 9 D 6 D 5 [UP] D 7 D 1 9 D 6 D 5 3 -4 [BT] D 7 D 1 9 D 6 -5 -10 -4 3 [BT] D 7 D 1 9 -6 -5 -10 -8 4 2 SAT\",\n",
    "    \"[BOS] 6 -8 10 0 2 -6 -7 0 8 -7 3 0 -3 1 -2 0 -2 -10 4 0 1 -6 -2 0 -8 4 -9 0 1 10 -5 0 8 4 5 0 -7 -6 -4 0 6 3 10 0 1 7 -10 0 1 6 -3 0 7 10 -9 0 -2 1 4 0 -7 -9 4 0 9 6 -3 0 4 -2 -9 0 3 8 -1 0 -1 5 -3 0 -2 -3 -7 0 4 -2 8 0 -6 -9 -10 0 4 5 10 0 -7 3 -2 0 -6 7 4 0 -8 -1 -10 0 -7 8 10 0 -9 -7 -1 0 -6 -2 5 0 -6 5 -3 0 -6 -4 9 0 9 -10 7 0 8 -3 -7 0 7 -10 -5 0 1 2 -4 0 4 -8 3 0 8 -3 6 0 -8 -2 1 0 6 -3 -10 0 -1 -6 -2 0 6 -4 2 0 10 3 6 0 [SEP] D 8 [UP] D 8 D -4 [UP] D 8 D -4 -9 3 6 7 2 [BT] D 8 4 D -6 [UP] D 8 4 D -6 10 -1 7 -3 -2 [BT] D 8 4 6 -7 9 10 [BT] -8 D 2 [UP] -8 D 2 4 D -7 [UP] -8 D 2 4 D -7 D -5 [UP] -8 D 2 4 D -7 D -5 -6 -3 10 1 [BT] -8 D 2 4 D -7 5 -10 1 -9 3 6 [BT] -8 D 2 4 7 3 [BT] -8 -2 D 3 [UP] -8 -2 D 3 -7 6 4 5 9 10 [BT] -8 -2 -3 -7 -1 -10 -5 4 UNSAT\",\n",
    "    \"[BOS] 1 9 -5 0 3 6 -8 0 1 -7 4 0 5 -9 -1 0 -3 -7 -1 0 -6 -2 -3 0 6 2 3 0 -7 -6 5 0 -6 -9 7 0 3 5 -8 0 9 4 -6 0 -1 -4 -8 0 2 1 7 0 9 4 7 0 5 7 8 0 5 -1 -7 0 7 2 3 0 5 2 -7 0 3 -5 4 0 8 -7 -4 0 9 3 1 0 8 -5 7 0 3 9 -6 0 4 9 2 0 4 1 -2 0 -3 9 -4 0 -9 -6 -8 0 3 8 2 0 5 -7 4 0 -5 3 -8 0 -8 1 -4 0 -7 2 4 0 9 -6 1 0 9 -1 5 0 8 -1 -9 0 9 4 5 0 7 1 -5 0 -6 -1 -2 0 -1 -9 3 0 [SEP] D 1 [UP] D 1 D 2 [UP] D 1 D 2 -6 D 3 [UP] D 1 D 2 -6 D 3 -7 D 4 [UP] D 1 D 2 -6 D 3 -7 D 4 9 5 8 [BT] D 1 D 2 -6 D 3 -7 -4 9 5 8 SAT\",\n",
    "    \"[BOS] 4 -10 -9 0 -11 -2 5 0 13 5 -1 0 -11 -14 2 0 15 -13 -11 0 -5 -11 -1 0 -3 -1 12 0 13 8 5 0 11 -12 -2 0 5 10 -1 0 5 -1 -15 0 11 6 -1 0 6 5 -4 0 -11 5 -7 0 -8 -3 -7 0 9 -15 -11 0 -11 -13 15 0 -7 4 6 0 2 -10 -14 0 8 12 -6 0 -7 -15 -10 0 -13 7 10 0 7 15 -4 0 7 -4 9 0 -4 6 2 0 15 4 1 0 15 -6 -7 0 8 5 -6 0 -3 -6 -2 0 -4 11 -2 0 2 9 -8 0 -12 -11 -5 0 -11 -6 14 0 -2 -6 -10 0 -3 -4 -11 0 6 -9 15 0 -12 -5 15 0 -4 9 -3 0 -4 2 13 0 -2 -12 8 0 -5 -12 15 0 15 7 6 0 -3 5 -2 0 2 -4 -13 0 -3 -15 -11 0 15 -4 -9 0 -3 8 -11 0 13 -1 14 0 -10 3 7 0 8 -14 2 0 5 13 7 0 8 4 6 0 13 -4 6 0 -2 7 10 0 -12 -9 7 0 8 4 -10 0 4 -14 -12 0 -10 -13 5 0 -7 -5 3 0 5 -10 -14 0 10 -13 -11 0 -13 -6 10 0 10 11 4 0 [SEP] D 14 [UP] D 14 D 13 [UP] D 14 D 13 D 1 [UP] D 14 D 13 D 1 D 10 [UP] D 14 D 13 D 1 D 10 2 -6 11 5 [BT] D 14 D 13 D 1 -10 5 -11 6 [BT] D 14 D 13 -1 D 8 [UP] D 14 D 13 -1 D 8 D 10 [UP] D 14 D 13 -1 D 8 D 10 2 -6 5 D -11 [UP] D 14 D 13 -1 D 8 D 10 2 -6 5 D -11 -12 -4 -9 -7 15 3 SAT\",\n",
    "    \"[BOS] -12 -9 6 0 11 14 -15 0 -3 2 -13 0 -11 6 13 0 15 -3 -14 0 6 -4 -1 0 -15 -13 11 0 2 -14 -5 0 14 15 -1 0 15 11 -8 0 12 9 6 0 -3 -2 1 0 -11 -3 8 0 -7 5 -14 0 -8 4 -15 0 1 -10 15 0 13 3 -1 0 12 -9 1 0 -2 7 14 0 3 7 -1 0 -7 2 13 0 -1 -8 13 0 7 4 13 0 6 -9 -7 0 -14 -9 -8 0 14 -11 13 0 -3 -10 1 0 6 15 -11 0 -3 -1 -10 0 -10 -9 11 0 2 13 5 0 8 -4 -12 0 -10 4 11 0 2 -13 -6 0 9 5 -15 0 8 4 -15 0 6 -15 -12 0 15 -11 10 0 5 -12 1 0 -4 -1 12 0 -7 5 11 0 9 -8 -1 0 -8 -9 4 0 -3 8 10 0 2 -5 -7 0 -13 -10 12 0 -8 5 1 0 -12 -3 -6 0 -11 -14 10 0 12 14 3 0 3 9 15 0 6 12 -15 0 9 3 -11 0 -3 13 6 0 7 1 -15 0 3 2 1 0 -12 3 11 0 -7 -1 -13 0 -10 -5 -14 0 -9 -14 1 0 5 -14 -7 0 -2 13 -5 0 14 3 -6 0 [SEP] D 1 [UP] D 1 D 13 [UP] D 1 D 13 -7 3 -10 8 2 14 15 9 [BT] D 1 -13\"\n",
    "]\n",
    "# sample_input_unsat = \"[BOS] 1 -2 3 0 -1 2 -3 0 2 4 -1 0 1 -3 4 0 -2 -3 -4 0 3 -4 -1 0 -2 4 -1 0 1 2 -3 0 1 2 3 0 [SEP]\"\n",
    "sample_input = sample_inputs[test_id]\n",
    "prompt_str = sample_input.split(\"[SEP]\")[0] + \"[SEP]\"\n",
    "trace_str = sample_input.split(\"[SEP]\")[1].strip()\n",
    "prompt_tokens = prompt_str.split()\n",
    "trace_tokens = trace_str.split()\n",
    "full_trace_tokens = prompt_tokens + trace_tokens\n",
    "\n",
    "context_len = len(full_trace_tokens) + 500\n",
    "# num_vars = max(int(tok) for tok in full_trace_tokens if tok.isdigit())\n",
    "# num_clauses = prompt_str.count(\"0\") + 2\n",
    "num_vars = 15\n",
    "num_clauses = 71\n",
    "context_len = 1200\n",
    "sop, vocab, sop_logs = dpll(num_vars=num_vars, num_clauses=num_clauses, context_len=context_len, return_logs=True, mean_exactness=100, nonsep_penalty=100)\n"
   ]
  },
  {
   "cell_type": "code",
   "execution_count": null,
   "metadata": {
    "ExecuteTime": {
     "end_time": "2024-09-14T04:45:50.350820Z",
     "start_time": "2024-09-14T04:45:49.726110Z"
    }
   },
   "outputs": [],
   "source": [
    "abstract_out = sop.abstract_eval(full_trace_tokens)\n",
    "plt.imshow(abstract_out, cmap='Greys')\n",
    "plt.show()"
   ]
  },
  {
   "cell_type": "code",
   "execution_count": null,
   "metadata": {
    "ExecuteTime": {
     "end_time": "2024-09-14T04:45:56.102463Z",
     "start_time": "2024-09-14T04:45:50.351968Z"
    }
   },
   "outputs": [],
   "source": [
    "concrete_out = sop.concrete_eval(full_trace_tokens)\n",
    "plt.imshow(concrete_out, cmap='Greys')\n",
    "plt.show()"
   ]
  },
  {
   "cell_type": "code",
   "execution_count": 4,
   "metadata": {
    "ExecuteTime": {
     "end_time": "2024-09-14T04:46:08.468854Z",
     "start_time": "2024-09-14T04:45:56.103934Z"
    }
   },
   "outputs": [],
   "source": [
    "import numpy as np\n",
    "# debugging\n",
    "for name, log_sop in sop_logs.items():\n",
    "    abstract_val = log_sop.abstract_eval(full_trace_tokens).squeeze()\n",
    "    concrete_val = log_sop.concrete_eval(full_trace_tokens).squeeze()\n",
    "    errors = np.abs(abstract_val - concrete_val)\n",
    "    threshold = 0.01\n",
    "    max_error = errors.max()\n",
    "    if max_error > threshold:\n",
    "        print(f\"Large Error SOp {name}: {max_error}\")"
   ]
  },
  {
   "cell_type": "code",
   "execution_count": null,
   "metadata": {
    "ExecuteTime": {
     "end_time": "2024-09-14T04:46:09.175Z",
     "start_time": "2024-09-14T04:46:08.473950Z"
    }
   },
   "outputs": [],
   "source": [
    "dpll_model, residual_alloc, flat_sop = compile_model(sop, vocab, context_len, return_alloc=True)\n",
    "flattened_sops = flat_sop.all_named_deps()\n",
    "name_alloc = {sop.name: residual_alloc[sop] for sop in residual_alloc.keys() if sop.name is not None}\n",
    "print(\"Model Hidden Size\", dpll_model.hidden_size)\n",
    "dpll_model.summary()\n",
    "out, residual_dict = dpll_model.apply_tokens(full_trace_tokens, residual_alloc=name_alloc)\n",
    "\n",
    "model_out = out.detach().numpy()[0]\n",
    "plt.imshow(model_out, cmap='Greys')"
   ]
  },
  {
   "cell_type": "code",
   "execution_count": null,
   "metadata": {
    "ExecuteTime": {
     "end_time": "2024-09-14T04:46:09.432955Z",
     "start_time": "2024-09-14T04:46:09.175672Z"
    }
   },
   "outputs": [],
   "source": [
    "print(residual_alloc)\n",
    "print(sorted(residual_dict.keys()))\n",
    "print(sorted(flattened_sops.keys()))\n",
    "print(residual_dict['r_i_pre'][0, -1])\n",
    "print(flattened_sops['r_i'].concrete_eval(full_trace_tokens)[-1])\n",
    "print(sop_logs['r_i'].concrete_eval(full_trace_tokens).squeeze()[-1])"
   ]
  },
  {
   "cell_type": "code",
   "execution_count": null,
   "metadata": {
    "ExecuteTime": {
     "end_time": "2024-09-14T04:46:13.582268Z",
     "start_time": "2024-09-14T04:46:09.444988Z"
    }
   },
   "outputs": [],
   "source": [
    "for name, log_sop in sop_logs.items():\n",
    "    if not log_sop.name or log_sop.name not in residual_dict:\n",
    "        continue\n",
    "    concrete_val = log_sop.concrete_eval(full_trace_tokens).squeeze()\n",
    "    model_val = np.squeeze(residual_dict[log_sop.name])\n",
    "    errors = np.abs(model_val - concrete_val)\n",
    "    threshold = 0.01\n",
    "    max_error = errors.max()\n",
    "    if max_error > threshold:\n",
    "        print(f\"Large Error SOp {name}: {max_error}\")\n",
    "    else:\n",
    "        print(f\"{name} within threshold\")"
   ]
  },
  {
   "cell_type": "code",
   "execution_count": null,
   "metadata": {
    "ExecuteTime": {
     "end_time": "2024-09-14T04:46:18.323106Z",
     "start_time": "2024-09-14T04:46:13.585332Z"
    }
   },
   "outputs": [],
   "source": [
    "diff = (abstract_out - model_out)[1:]\n",
    "concrete_out = sop.concrete_eval(full_trace_tokens)\n",
    "\n",
    "\n",
    "abs_pred_ids = abstract_out.argmax(axis=1).squeeze()\n",
    "model_pred_ids = model_out.argmax(axis=1).squeeze()\n",
    "concrete_pred_ids = concrete_out.argmax(axis=1).squeeze()\n",
    "\n",
    "abs_pred_tokens = np.array(vocab)[abs_pred_ids]\n",
    "model_pred_tokens = np.array(vocab)[model_pred_ids]\n",
    "concrete_pred_tokens = np.array(vocab)[concrete_pred_ids]\n",
    "\n",
    "print(' '.join(abs_pred_tokens))\n",
    "print(' '.join(model_pred_tokens))\n",
    "print(' '.join(concrete_pred_tokens))"
   ]
  },
  {
   "cell_type": "code",
   "execution_count": null,
   "metadata": {
    "ExecuteTime": {
     "end_time": "2024-09-14T04:46:18.329443Z",
     "start_time": "2024-09-14T04:46:18.324583Z"
    }
   },
   "outputs": [],
   "source": [
    "print(abstract_out[-1].round(4))\n",
    "print(concrete_out[-1].round(4))\n",
    "print(np.maximum(model_out[-1].round(4), 0))\n",
    "diff = concrete_out[-1] - abstract_out[-1]\n",
    "print(diff.round(4))"
   ]
  },
  {
   "cell_type": "code",
   "execution_count": null,
   "metadata": {
    "ExecuteTime": {
     "end_time": "2024-09-14T04:46:18.386886Z",
     "start_time": "2024-09-14T04:46:18.331497Z"
    }
   },
   "outputs": [],
   "source": [
    "plt.imshow(out.detach().numpy()[0], cmap='Greys')\n",
    "plt.show()"
   ]
  },
  {
   "cell_type": "code",
   "execution_count": null,
   "metadata": {
    "ExecuteTime": {
     "end_time": "2024-09-14T04:47:13.558198Z",
     "start_time": "2024-09-14T04:46:18.390003Z"
    }
   },
   "outputs": [],
   "source": [
    "print(' '.join(sop_generate(prompt_tokens, vocab, sop)))"
   ]
  },
  {
   "cell_type": "code",
   "execution_count": null,
   "metadata": {
    "ExecuteTime": {
     "end_time": "2024-09-14T04:47:14.722410Z",
     "start_time": "2024-09-14T04:47:13.561169Z"
    }
   },
   "outputs": [],
   "source": [
    "print(' '.join(dpll_model.generate(prompt_tokens)))"
   ]
  },
  {
   "cell_type": "code",
   "execution_count": null,
   "metadata": {
    "ExecuteTime": {
     "end_time": "2024-09-14T04:47:14.726511Z",
     "start_time": "2024-09-14T04:47:14.723073Z"
    }
   },
   "outputs": [],
   "source": [
    "# Find the max parameter value of model\n",
    "print(dpll_model)\n",
    "print(\"Max Param:\", dpll_model.find_max_parameter())"
   ]
  },
  {
   "cell_type": "code",
   "execution_count": null,
   "metadata": {
    "ExecuteTime": {
     "end_time": "2024-09-14T04:47:14.730481Z",
     "start_time": "2024-09-14T04:47:14.728752Z"
    }
   },
   "outputs": [],
   "source": [
    "dpll_model.summary()"
   ]
  },
  {
   "cell_type": "code",
   "execution_count": null,
   "metadata": {
    "ExecuteTime": {
     "end_time": "2024-09-14T04:47:14.732095Z",
     "start_time": "2024-09-14T04:47:14.731003Z"
    }
   },
   "outputs": [],
   "source": []
  }
 ],
 "metadata": {
  "kernelspec": {
   "display_name": "llm",
   "language": "python",
   "name": "python3"
  },
  "language_info": {
   "codemirror_mode": {
    "name": "ipython",
    "version": 3
   },
   "file_extension": ".py",
   "mimetype": "text/x-python",
   "name": "python",
   "nbconvert_exporter": "python",
   "pygments_lexer": "ipython3",
   "version": "3.11.5"
  }
 },
 "nbformat": 4,
 "nbformat_minor": 2
}
